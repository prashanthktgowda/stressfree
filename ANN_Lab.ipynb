{
 "cells": [
  {
   "cell_type": "markdown",
   "metadata": {
    "id": "8xOdCYaLr6hq"
   },
   "source": [
    "# **Program 1**"
   ]
  },
  {
   "cell_type": "code",
   "execution_count": 5,
   "metadata": {
    "colab": {
     "base_uri": "https://localhost:8080/"
    },
    "id": "CB1yvzZarJo0",
    "outputId": "7d8e2e0e-c76c-4093-f412-2fbb0d353c3d"
   },
   "outputs": [
    {
     "name": "stdin",
     "output_type": "stream",
     "text": [
      "Enter weights (space-separated, e.g., '1 1'):  1 1\n",
      "Enter threshold (e.g., '1.5'):  1.5\n",
      "Enter number of input-output pairs (e.g., '4'):  4\n"
     ]
    },
    {
     "name": "stdout",
     "output_type": "stream",
     "text": [
      "Provide input-output pairs (e.g., '0 0 0' for input [0, 0] and output 0):\n"
     ]
    },
    {
     "name": "stdin",
     "output_type": "stream",
     "text": [
      "Enter input vector followed by expected output:  0 0 0\n",
      "Enter input vector followed by expected output:  0 1 0\n",
      "Enter input vector followed by expected output:  1 0 0\n",
      "Enter input vector followed by expected output:  1 1 1\n"
     ]
    },
    {
     "name": "stdout",
     "output_type": "stream",
     "text": [
      "\n",
      "Perceptron Model Results:\n",
      "Input: [0 0] -> Output: 0 (Expected: 0)\n",
      "Input: [0 1] -> Output: 0 (Expected: 0)\n",
      "Input: [1 0] -> Output: 0 (Expected: 0)\n",
      "Input: [1 1] -> Output: 1 (Expected: 1)\n"
     ]
    }
   ],
   "source": [
    "import numpy as np\n",
    "\n",
    "# User input for weights and threshold\n",
    "weights = list(map(float, input(\"Enter weights (space-separated, e.g., '1 1'): \").split()))\n",
    "threshold = float(input(\"Enter threshold (e.g., '1.5'): \"))\n",
    "\n",
    "# User input for inputs and expected outputs\n",
    "n_inputs = int(input(\"Enter number of input-output pairs (e.g., '4'): \"))\n",
    "inputs = []\n",
    "expected_outputs = []\n",
    "\n",
    "print(\"Provide input-output pairs (e.g., '0 0 0' for input [0, 0] and output 0):\")\n",
    "for _ in range(n_inputs):\n",
    "    pair = list(map(int, input(\"Enter input vector followed by expected output: \").split()))\n",
    "    inputs.append(pair[:-1])\n",
    "    expected_outputs.append(pair[-1])\n",
    "\n",
    "inputs = np.array(inputs)\n",
    "expected_outputs = np.array(expected_outputs)\n",
    "\n",
    "# McCulloch-Pitts Perceptron Function\n",
    "def perceptron(x, weights, threshold):\n",
    "    # Calculate weighted sum\n",
    "    weighted_sum = np.dot(x, weights)\n",
    "    # Apply threshold\n",
    "    return 1 if weighted_sum >= threshold else 0\n",
    "\n",
    "# Test the Perceptron on each input and print results\n",
    "print(\"\\nPerceptron Model Results:\")\n",
    "for i in range(len(inputs)):\n",
    "    output = perceptron(inputs[i], weights, threshold)\n",
    "    print(f\"Input: {inputs[i]} -> Output: {output} (Expected: {expected_outputs[i]})\")\n"
   ]
  },
  {
   "cell_type": "markdown",
   "metadata": {
    "id": "zIPJZAkeXY3P"
   },
   "source": [
    "# **Program 2**"
   ]
  },
  {
   "cell_type": "code",
   "execution_count": 21,
   "metadata": {
    "colab": {
     "base_uri": "https://localhost:8080/"
    },
    "id": "Ew5AoAKmXYNP",
    "outputId": "e1df61bc-6dca-44f6-c356-77779bf1c6aa"
   },
   "outputs": [
    {
     "name": "stdout",
     "output_type": "stream",
     "text": [
      "\n",
      "AND Gate:\n",
      "Input: [1 1], Output: 1\n",
      "Input: [ 1 -1], Output: -1\n",
      "Input: [-1  1], Output: -1\n",
      "Input: [-1 -1], Output: -1\n",
      "\n",
      "OR Gate:\n",
      "Input: [1 1], Output: 1\n",
      "Input: [ 1 -1], Output: 1\n",
      "Input: [-1  1], Output: 1\n",
      "Input: [-1 -1], Output: -1\n"
     ]
    }
   ],
   "source": [
    "import numpy as np\n",
    "\n",
    "# Inputs and step function\n",
    "INPUTS = np.array([[1, 1], [1, -1], [-1, 1], [-1, -1]])\n",
    "\n",
    "def step_function(sum): return 1 if sum >= 0 else -1\n",
    "\n",
    "def calculate_output(weights, instance, bias): return step_function(np.dot(instance, weights) + bias)\n",
    "\n",
    "# Hebbian Learning Algorithm\n",
    "def hebb(outputs):\n",
    "    weights, bias = np.zeros(2), 0  # Initialize weights and bias\n",
    "    for i in range(len(outputs)):\n",
    "        weights += INPUTS[i] * outputs[i]\n",
    "        bias += outputs[i]\n",
    "    return weights, bias\n",
    "\n",
    "# Train, test, and print results for both AND and OR gates\n",
    "def train_and_print(gate_name, outputs):\n",
    "    weights, bias = hebb(outputs)\n",
    "    print(f\"\\n{gate_name.upper()} Gate:\")\n",
    "    for input_vec in INPUTS:\n",
    "        output = calculate_output(weights, input_vec, bias)\n",
    "        print(f\"Input: {input_vec}, Output: {output}\")\n",
    "\n",
    "# AND and OR gate outputs\n",
    "and_outputs = np.array([1, -1, -1, -1])\n",
    "or_outputs = np.array([1, 1, 1, -1])\n",
    "\n",
    "# Print results for both gates\n",
    "train_and_print(\"AND\", and_outputs)\n",
    "train_and_print(\"OR\", or_outputs)"
   ]
  },
  {
   "cell_type": "markdown",
   "metadata": {
    "id": "MOAzw7iEYTgy"
   },
   "source": [
    "# **Program 3**"
   ]
  },
  {
   "cell_type": "code",
   "execution_count": 22,
   "metadata": {
    "colab": {
     "base_uri": "https://localhost:8080/"
    },
    "id": "j43ZsJutYWU7",
    "outputId": "fcb4eaff-2cee-4f22-db57-6070d7a79c4b"
   },
   "outputs": [
    {
     "name": "stdout",
     "output_type": "stream",
     "text": [
      "Test Accuracy: 90.00%\n",
      "\n",
      "Enter the new crab's features:\n"
     ]
    },
    {
     "ename": "TypeError",
     "evalue": "'list' object is not callable",
     "output_type": "error",
     "traceback": [
      "\u001b[1;31m---------------------------------------------------------------------------\u001b[0m",
      "\u001b[1;31mTypeError\u001b[0m                                 Traceback (most recent call last)",
      "Cell \u001b[1;32mIn[22], line 35\u001b[0m\n\u001b[0;32m     33\u001b[0m \u001b[38;5;66;03m# Get new crab input from user\u001b[39;00m\n\u001b[0;32m     34\u001b[0m \u001b[38;5;28mprint\u001b[39m(\u001b[38;5;124m\"\u001b[39m\u001b[38;5;130;01m\\n\u001b[39;00m\u001b[38;5;124mEnter the new crab\u001b[39m\u001b[38;5;124m'\u001b[39m\u001b[38;5;124ms features:\u001b[39m\u001b[38;5;124m\"\u001b[39m)\n\u001b[1;32m---> 35\u001b[0m shell_width \u001b[38;5;241m=\u001b[39m \u001b[38;5;28mfloat\u001b[39m(\u001b[38;5;28;43minput\u001b[39;49m\u001b[43m(\u001b[49m\u001b[38;5;124;43m\"\u001b[39;49m\u001b[38;5;124;43mShell Width: \u001b[39;49m\u001b[38;5;124;43m\"\u001b[39;49m\u001b[43m)\u001b[49m)\n\u001b[0;32m     36\u001b[0m claw_size \u001b[38;5;241m=\u001b[39m \u001b[38;5;28mfloat\u001b[39m(\u001b[38;5;28minput\u001b[39m(\u001b[38;5;124m\"\u001b[39m\u001b[38;5;124mClaw Size: \u001b[39m\u001b[38;5;124m\"\u001b[39m))\n\u001b[0;32m     37\u001b[0m weight \u001b[38;5;241m=\u001b[39m \u001b[38;5;28mfloat\u001b[39m(\u001b[38;5;28minput\u001b[39m(\u001b[38;5;124m\"\u001b[39m\u001b[38;5;124mWeight: \u001b[39m\u001b[38;5;124m\"\u001b[39m))\n",
      "\u001b[1;31mTypeError\u001b[0m: 'list' object is not callable"
     ]
    }
   ],
   "source": [
    "import numpy as np\n",
    "from sklearn.model_selection import train_test_split\n",
    "from sklearn.neural_network import MLPClassifier\n",
    "from sklearn.metrics import accuracy_score\n",
    "import matplotlib.pyplot as plt\n",
    "\n",
    "# Generate synthetic dataset (100 crabs: shell width, claw size, weight)\n",
    "np.random.seed(123)  # New seed for better class separation\n",
    "blue_crabs = np.random.normal([5.4, 3.1, 0.35], 0.4, (50, 3))\n",
    "orange_crabs = np.random.normal([6.2, 3.6, 0.55], 0.4, (50, 3))\n",
    "data = np.vstack((blue_crabs, orange_crabs))\n",
    "labels = np.array([0] * 50 + [1] * 50)\n",
    "\n",
    "# Split the data\n",
    "X_train, X_test, y_train, y_test = train_test_split(data, labels, test_size=0.2, random_state=42)\n",
    "\n",
    "# Build and train the Pattern Net (MLP)\n",
    "model = MLPClassifier(\n",
    "    hidden_layer_sizes=(8, 8),\n",
    "    activation='relu',\n",
    "    solver='adam',\n",
    "    learning_rate_init=0.01,\n",
    "    max_iter=1000,\n",
    "    random_state=42\n",
    ")\n",
    "model.fit(X_train, y_train)\n",
    "\n",
    "# Evaluate the model\n",
    "y_pred = model.predict(X_test)\n",
    "accuracy = accuracy_score(y_test, y_pred)\n",
    "print(f\"Test Accuracy: {accuracy * 100:.2f}%\")\n",
    "\n",
    "# Get new crab input from user\n",
    "print(\"\\nEnter the new crab's features:\")\n",
    "shell_width = float(input(\"Shell Width: \"))\n",
    "claw_size = float(input(\"Claw Size: \"))\n",
    "weight = float(input(\"Weight: \"))\n",
    "new_crab = np.array([[shell_width, claw_size, weight]])\n",
    "\n",
    "# Predict species for the new crab\n",
    "prediction = model.predict(new_crab)\n",
    "species = [\"Blue\", \"Orange\"]\n",
    "print(f\"The predicted species for the new crab is: {species[prediction[0]]}\")\n",
    "\n",
    "# Plot the data points and the new crab prediction\n",
    "plt.figure(figsize=(10, 6))\n",
    "\n",
    "# Scatter plot of blue crabs\n",
    "plt.scatter(data[labels == 0, 0], data[labels == 0, 1], c='blue', label='Blue Crabs')\n",
    "# Scatter plot of orange crabs\n",
    "plt.scatter(data[labels == 1, 0], data[labels == 1, 1], c='orange', label='Orange Crabs')\n",
    "\n",
    "# Plot the new crab prediction\n",
    "plt.scatter(new_crab[0, 0], new_crab[0, 1], c='red', marker='x', label='New Crab')\n",
    "\n",
    "plt.xlabel('Shell Width')\n",
    "plt.ylabel('Claw Size')\n",
    "plt.title('Crab Species Prediction')\n",
    "plt.legend()\n",
    "plt.grid(True)\n",
    "plt.show()\n"
   ]
  },
  {
   "cell_type": "markdown",
   "metadata": {
    "id": "k9M9Lsp1ditt"
   },
   "source": [
    "# **Program 4**"
   ]
  },
  {
   "cell_type": "code",
   "execution_count": null,
   "metadata": {
    "colab": {
     "base_uri": "https://localhost:8080/"
    },
    "id": "Y4ABz4E4diH4",
    "outputId": "58b7cf57-3633-4aad-9b98-16d54a799fc1"
   },
   "outputs": [
    {
     "name": "stdout",
     "output_type": "stream",
     "text": [
      "Accuracy: 100.00%\n"
     ]
    }
   ],
   "source": [
    "from sklearn.datasets import load_wine\n",
    "from sklearn.model_selection import train_test_split\n",
    "from sklearn.preprocessing import StandardScaler\n",
    "from sklearn.neural_network import MLPClassifier\n",
    "from sklearn.metrics import accuracy_score\n",
    "\n",
    "# Data\n",
    "X, y = load_wine(return_X_y=True)\n",
    "X = StandardScaler().fit_transform(X)\n",
    "X_train, X_test, y_train, y_test = train_test_split(X, y, test_size=0.2, random_state=42)\n",
    "\n",
    "# Model\n",
    "model = MLPClassifier(hidden_layer_sizes=(10,), activation='relu', solver='sgd', learning_rate_init=0.01, max_iter=1000, random_state=42)\n",
    "\n",
    "# Training\n",
    "model.fit(X_train, y_train)\n",
    "\n",
    "# Evaluation\n",
    "y_pred = model.predict(X_test)\n",
    "accuracy = accuracy_score(y_test, y_pred)\n",
    "\n",
    "print(f'Accuracy: {accuracy * 100:.2f}%')"
   ]
  },
  {
   "cell_type": "markdown",
   "metadata": {
    "id": "c34_VcvlgIIW"
   },
   "source": [
    "# **Program 5**"
   ]
  },
  {
   "cell_type": "code",
   "execution_count": 2,
   "metadata": {
    "colab": {
     "base_uri": "https://localhost:8080/"
    },
    "id": "Sja78MNigMhY",
    "outputId": "fd4461f1-03b3-4efe-9ee3-791015f4f556"
   },
   "outputs": [
    {
     "name": "stdout",
     "output_type": "stream",
     "text": [
      "Jacobian: [2. 4.]\n",
      "Hessian:\n",
      " [[2 0]\n",
      " [0 2]]\n"
     ]
    }
   ],
   "source": [
    "import numpy as np\n",
    "# Define the function f(x, y)\n",
    "def func(x, y):\n",
    "    return x**2 + y**2\n",
    "# Compute Jacobian (first derivatives)\n",
    "def compute_jacobian(x, y):\n",
    "    df_dx = 2 * x  # ∂f/∂x\n",
    "    df_dy = 2 * y  # ∂f/∂y\n",
    "    return np.array([df_dx, df_dy])\n",
    "# Compute Hessian (second derivatives)\n",
    "def compute_hessian(x, y):\n",
    "    d2f_dx2 = 2  # ∂²f/∂x²\n",
    "    d2f_dy2 = 2  # ∂²f/∂y²\n",
    "    d2f_dxdy = 0  # ∂²f/∂x∂y\n",
    "    d2f_dydx = 0  # ∂²f/∂y∂x\n",
    "    return np.array([[d2f_dx2, d2f_dxdy],\n",
    "                     [d2f_dydx, d2f_dy2]])\n",
    "# Example values\n",
    "x_val, y_val = 1.0, 2.0\n",
    "# Compute Jacobian and Hessian\n",
    "jacobian = compute_jacobian(x_val, y_val)\n",
    "hessian = compute_hessian(x_val, y_val)\n",
    "print(\"Jacobian:\", jacobian)\n",
    "print(\"Hessian:\\n\", hessian)"
   ]
  },
  {
   "cell_type": "markdown",
   "metadata": {
    "id": "yWodJWfkgz_H"
   },
   "source": [
    "# **Program 6**"
   ]
  },
  {
   "cell_type": "code",
   "execution_count": 3,
   "metadata": {
    "colab": {
     "base_uri": "https://localhost:8080/"
    },
    "id": "gUlq4xQrg3vK",
    "outputId": "558ce95e-55e3-4ebc-ca57-316b6b6aaa7e"
   },
   "outputs": [
    {
     "name": "stdout",
     "output_type": "stream",
     "text": [
      "Final Weights: [-0.06145498  1.01651104], Bias: -2.1441048607297626, Predictions: [ 1. -1. -1.  1. -1.]\n"
     ]
    }
   ],
   "source": [
    "import numpy as np\n",
    "\n",
    "# Data and labels\n",
    "X = np.array([[2, 3], [1, 1], [2, 1], [3, 3], [2, 2]])\n",
    "y = np.array([1, -1, -1, 1, -1])\n",
    "\n",
    "# LMS algorithm\n",
    "w, b, lr = np.zeros(2), 0, 0.01\n",
    "for _ in range(1000):\n",
    "    for i in range(len(X)):\n",
    "        y_pred = np.dot(X[i], w) + b\n",
    "        error = y[i] - y_pred\n",
    "        w += lr * error * X[i]\n",
    "        b += lr * error\n",
    "\n",
    "# Prediction\n",
    "pred = np.sign(np.dot(X, w) + b)\n",
    "print(f\"Final Weights: {w}, Bias: {b}, Predictions: {pred}\")"
   ]
  },
  {
   "cell_type": "markdown",
   "metadata": {
    "id": "e6H608S2OFPp"
   },
   "source": [
    "# **Program 7**"
   ]
  },
  {
   "cell_type": "code",
   "execution_count": null,
   "metadata": {
    "colab": {
     "base_uri": "https://localhost:8080/"
    },
    "id": "R2S_Ad9TON7X",
    "outputId": "4a31e841-7467-4451-b655-ab530da540e7"
   },
   "outputs": [
    {
     "name": "stdout",
     "output_type": "stream",
     "text": [
      "New hidden state: [0.06193819]\n",
      "New cell state: [0.36232039]\n"
     ]
    }
   ],
   "source": [
    "import numpy as np\n",
    "\n",
    "# Simple LSTM cell forward pass (single timestep)\n",
    "def simple_lstm(x, h_prev, c_prev, Wf, Wi, Wo, Wc, bf, bi, bo, bc):\n",
    "    z = np.concatenate((x, h_prev))  # Concatenate input and previous hidden state\n",
    "\n",
    "    f = sigmoid(np.dot(Wf, z) + bf)  # Forget gate\n",
    "    i = sigmoid(np.dot(Wi, z) + bi)  # Input gate\n",
    "    o = sigmoid(np.dot(Wo, z) + bo)  # Output gate\n",
    "    c_tilde = np.tanh(np.dot(Wc, z) + bc)  # Candidate cell state\n",
    "\n",
    "    c = f * c_prev + i * c_tilde  # New cell state\n",
    "    h = o * np.tanh(c)  # New hidden state\n",
    "\n",
    "    return h, c\n",
    "\n",
    "# Sigmoid activation function\n",
    "def sigmoid(x):\n",
    "    return 1 / (1 + np.exp(-x))\n",
    "\n",
    "# Example data: a simple sine wave\n",
    "x = np.array([0.5])  # Input at time step t\n",
    "h_prev = np.zeros(1)  # Initial hidden state\n",
    "c_prev = np.zeros(1)  # Initial cell state\n",
    "\n",
    "# Random LSTM weights and biases for a single hidden unit\n",
    "Wf = np.random.randn(1, 2)  # Forget gate weight\n",
    "Wi = np.random.randn(1, 2)  # Input gate weight\n",
    "Wo = np.random.randn(1, 2)  # Output gate weight\n",
    "Wc = np.random.randn(1, 2)  # Candidate cell state weight\n",
    "\n",
    "bf = np.zeros(1)  # Forget gate bias\n",
    "bi = np.zeros(1)  # Input gate bias\n",
    "bo = np.zeros(1)  # Output gate bias\n",
    "bc = np.zeros(1)  # Cell state bias\n",
    "\n",
    "# Forward pass through the LSTM\n",
    "h, c = simple_lstm(x, h_prev, c_prev, Wf, Wi, Wo, Wc, bf, bi, bo, bc)\n",
    "\n",
    "# Output the results\n",
    "print(\"New hidden state:\", h)\n",
    "print(\"New cell state:\", c)"
   ]
  },
  {
   "cell_type": "markdown",
   "metadata": {
    "id": "xZrTfEpJPdsJ"
   },
   "source": [
    "# **Program 8**"
   ]
  },
  {
   "cell_type": "code",
   "execution_count": 8,
   "metadata": {
    "colab": {
     "base_uri": "https://localhost:8080/"
    },
    "id": "Eo5BnKyhPgrB",
    "outputId": "8d60c177-954d-4693-ac97-6df84b9e553d"
   },
   "outputs": [
    {
     "name": "stdout",
     "output_type": "stream",
     "text": [
      "Predicted class: [0], Actual class: [0]\n"
     ]
    }
   ],
   "source": [
    "import numpy as np\n",
    "\n",
    "# Simple RNN parameters\n",
    "input_size = 3\n",
    "hidden_size = 5\n",
    "output_size = 2\n",
    "seq_length = 4\n",
    "\n",
    "# Random data\n",
    "X = np.random.randn(seq_length, input_size)\n",
    "y = np.random.randint(0, output_size, size=(1,))\n",
    "\n",
    "# Initialize weights and biases\n",
    "Wh = np.random.randn(hidden_size, hidden_size)\n",
    "Wx = np.random.randn(input_size, hidden_size)\n",
    "Wy = np.random.randn(hidden_size, output_size)\n",
    "bh = np.zeros((1, hidden_size))\n",
    "by = np.zeros((1, output_size))\n",
    "\n",
    "# Forward pass\n",
    "h = np.zeros((1, hidden_size))\n",
    "for t in range(seq_length):\n",
    "    h = np.tanh(X[t].dot(Wx) + h.dot(Wh) + bh)  # RNN step\n",
    "output = h.dot(Wy) + by  # Output layer\n",
    "pred = np.argmax(output, axis=1)\n",
    "\n",
    "print(f\"Predicted class: {pred}, Actual class: {y}\")"
   ]
  },
  {
   "cell_type": "markdown",
   "metadata": {
    "id": "o3JxfAnQg1Y1"
   },
   "source": [
    "# **Program 9**"
   ]
  },
  {
   "cell_type": "code",
   "execution_count": 9,
   "metadata": {
    "colab": {
     "base_uri": "https://localhost:8080/"
    },
    "id": "KaQzqyubg5Ne",
    "outputId": "acfcb93d-0474-4abc-ba21-28ce69d8c22f"
   },
   "outputs": [
    {
     "name": "stdout",
     "output_type": "stream",
     "text": [
      "Convolution Output:\n",
      " [[ 1.15500655 -2.80709106 -1.07259397]\n",
      " [ 2.31342244  2.65475465 -1.50618121]\n",
      " [-1.77487088  1.7688998  -0.77050831]]\n",
      "ReLU Output:\n",
      " [[1.15500655 0.         0.        ]\n",
      " [2.31342244 2.65475465 0.        ]\n",
      " [0.         1.7688998  0.        ]]\n",
      "Max Pooling Output: 2.6547546480983906\n"
     ]
    }
   ],
   "source": [
    "import numpy as np\n",
    "\n",
    "# Random 5x5 input and 3x3 kernel\n",
    "X = np.random.randn(5, 5)\n",
    "W = np.random.randn(3, 3)\n",
    "\n",
    "# Convolution operation (without padding, stride = 1)\n",
    "conv_out = np.array([[np.sum(X[i:i+3, j:j+3] * W) for j in range(3)] for i in range(3)])\n",
    "\n",
    "# ReLU activation\n",
    "relu_out = np.maximum(0, conv_out)\n",
    "\n",
    "# Max pooling (2x2)\n",
    "pool_out = np.max(relu_out[:2, :2])\n",
    "\n",
    "print(\"Convolution Output:\\n\", conv_out)\n",
    "print(\"ReLU Output:\\n\", relu_out)\n",
    "print(\"Max Pooling Output:\", pool_out)"
   ]
  },
  {
   "cell_type": "markdown",
   "metadata": {
    "id": "nOEACqCihwac"
   },
   "source": [
    "# **Program 10**"
   ]
  },
  {
   "cell_type": "code",
   "execution_count": 10,
   "metadata": {
    "colab": {
     "base_uri": "https://localhost:8080/"
    },
    "id": "OcW1Br2kh-Y6",
    "outputId": "a0101729-ae1f-4bfc-9cb3-83109c0ab00d"
   },
   "outputs": [
    {
     "name": "stdout",
     "output_type": "stream",
     "text": [
      "Input Vector (X): [ 0.5 -0.2  0.1]\n",
      "Previous Hidden State (h_prev): [0. 0.]\n",
      "Update Gate (z): [0.61835421 0.63760269]\n",
      "Reset Gate (r): [0.44006626 0.50452907]\n",
      "Candidate Hidden State (h_tilde): [0.07014727 0.42256534]\n",
      "New Hidden State (h): [0.04337586 0.2694288 ]\n"
     ]
    }
   ],
   "source": [
    "import numpy as np\n",
    "\n",
    "# Sigmoid activation function\n",
    "def sigmoid(x):\n",
    "    return 1 / (1 + np.exp(-x))  # Sigmoid function\n",
    "\n",
    "# GRU parameters (random initialization)\n",
    "input_size = 3  # Size of input vector\n",
    "hidden_size = 2  # Size of hidden state\n",
    "\n",
    "# Define the input and previous hidden state\n",
    "X = np.array([0.5, -0.2, 0.1])  # Example input vector (3-dimensional)\n",
    "h_prev = np.array([0.0, 0.0])   # Initial hidden state (2-dimensional)\n",
    "\n",
    "# Random weights and biases\n",
    "Wz = np.random.randn(input_size, hidden_size)  # Update gate weights\n",
    "Wr = np.random.randn(input_size, hidden_size)  # Reset gate weights\n",
    "Wh = np.random.randn(input_size, hidden_size)  # Candidate hidden state weights\n",
    "Uz = np.random.randn(hidden_size, hidden_size)  # Update gate recurrent weights\n",
    "Ur = np.random.randn(hidden_size, hidden_size)  # Reset gate recurrent weights\n",
    "Uh = np.random.randn(hidden_size, hidden_size)  # Candidate hidden state recurrent weights\n",
    "bz = np.zeros(hidden_size)  # Bias for update gate\n",
    "br = np.zeros(hidden_size)  # Bias for reset gate\n",
    "bh = np.zeros(hidden_size)  # Bias for candidate hidden state\n",
    "\n",
    "# GRU operations (single step)\n",
    "z = sigmoid(X.dot(Wz) + h_prev.dot(Uz) + bz)  # Update gate\n",
    "r = sigmoid(X.dot(Wr) + h_prev.dot(Ur) + br)  # Reset gate\n",
    "h_tilde = np.tanh(X.dot(Wh) + (r * h_prev).dot(Uh) + bh)  # Candidate hidden state\n",
    "h = (1 - z) * h_prev + z * h_tilde  # New hidden state\n",
    "\n",
    "# Print input, output, and hidden state update\n",
    "print(\"Input Vector (X):\", X)\n",
    "print(\"Previous Hidden State (h_prev):\", h_prev)\n",
    "print(\"Update Gate (z):\", z)\n",
    "print(\"Reset Gate (r):\", r)\n",
    "print(\"Candidate Hidden State (h_tilde):\", h_tilde)\n",
    "print(\"New Hidden State (h):\", h)"
   ]
  },
  {
   "cell_type": "code",
   "execution_count": null,
   "metadata": {},
   "outputs": [],
   "source": []
  }
 ],
 "metadata": {
  "colab": {
   "provenance": []
  },
  "kernelspec": {
   "display_name": "Python 3 (ipykernel)",
   "language": "python",
   "name": "python3"
  },
  "language_info": {
   "codemirror_mode": {
    "name": "ipython",
    "version": 3
   },
   "file_extension": ".py",
   "mimetype": "text/x-python",
   "name": "python",
   "nbconvert_exporter": "python",
   "pygments_lexer": "ipython3",
   "version": "3.12.4"
  }
 },
 "nbformat": 4,
 "nbformat_minor": 4
}
